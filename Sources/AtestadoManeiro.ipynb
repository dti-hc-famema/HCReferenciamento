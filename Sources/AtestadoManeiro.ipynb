{
  "nbformat": 4,
  "nbformat_minor": 0,
  "metadata": {
    "colab": {
      "name": "AtestadoManeiro.ipynb",
      "provenance": [],
      "collapsed_sections": [],
      "toc_visible": true
    },
    "language_info": {
      "codemirror_mode": {
        "name": "ipython",
        "version": 3
      },
      "file_extension": ".py",
      "mimetype": "text/x-python",
      "name": "python",
      "nbconvert_exporter": "python",
      "pygments_lexer": "ipython3",
      "version": "3.6.4"
    },
    "kernelspec": {
      "display_name": "Python 3",
      "language": "python",
      "name": "python3"
    }
  },
  "cells": [
    {
      "cell_type": "code",
      "metadata": {
        "id": "xwDGcsFms0GU",
        "colab_type": "code",
        "colab": {}
      },
      "source": [
        "import numpy  as np\n",
        "import pandas as pd\n",
        "import matplotlib.pyplot as pl\n",
        "import seaborn as sb\n",
        "import random, decimal\n",
        "\n",
        "%matplotlib inline\n"
      ],
      "execution_count": 0,
      "outputs": []
    },
    {
      "cell_type": "code",
      "metadata": {
        "id": "SWU0JyQYs0Ga",
        "colab_type": "code",
        "colab": {}
      },
      "source": [
        "df = pd.read_csv('dsTipoCaso3.csv', parse_dates=['DAT_HORA_ATENDIMENTO'],encoding=\"ISO-8859-1\")"
      ],
      "execution_count": 0,
      "outputs": []
    },
    {
      "cell_type": "code",
      "metadata": {
        "id": "Ry_MaKN2NLF1",
        "colab_type": "code",
        "outputId": "773ff7b3-dc6e-47cd-96d4-3a900e5a110d",
        "colab": {
          "base_uri": "https://localhost:8080/",
          "height": 156
        }
      },
      "source": [
        "df.dtypes\n"
      ],
      "execution_count": 0,
      "outputs": [
        {
          "output_type": "execute_result",
          "data": {
            "text/plain": [
              "DAT_HORA_ATENDIMENTO          datetime64[ns]\n",
              "NOM_ENCAMINHAMENTO                    object\n",
              "NOM_MODALIDADE_ATENDIMENTO            object\n",
              "NOM_MUNICIPIO                         object\n",
              "NOM_EQUIPE                            object\n",
              "NOM_TIPO_CASO                         object\n",
              "IDADE                                float64\n",
              "dtype: object"
            ]
          },
          "metadata": {
            "tags": []
          },
          "execution_count": 121
        }
      ]
    },
    {
      "cell_type": "markdown",
      "metadata": {
        "id": "Ond6lsImN5Kp",
        "colab_type": "text"
      },
      "source": [
        "adicionando dia da semana no dataframe"
      ]
    },
    {
      "cell_type": "code",
      "metadata": {
        "id": "L0Whh3YzN7c4",
        "colab_type": "code",
        "outputId": "63d4b4bf-a769-4530-b91e-8965d3743b30",
        "colab": {
          "base_uri": "https://localhost:8080/",
          "height": 295
        }
      },
      "source": [
        "df['DIASEMANA'] = df['DAT_HORA_ATENDIMENTO'].dt.dayofweek\n",
        "dfNovo = df[['DIASEMANA','NOM_MUNICIPIO','NOM_EQUIPE','NOM_MODALIDADE_ATENDIMENTO']]\n",
        "dfNovo.describe()\n"
      ],
      "execution_count": 0,
      "outputs": [
        {
          "output_type": "execute_result",
          "data": {
            "text/html": [
              "<div>\n",
              "<style scoped>\n",
              "    .dataframe tbody tr th:only-of-type {\n",
              "        vertical-align: middle;\n",
              "    }\n",
              "\n",
              "    .dataframe tbody tr th {\n",
              "        vertical-align: top;\n",
              "    }\n",
              "\n",
              "    .dataframe thead th {\n",
              "        text-align: right;\n",
              "    }\n",
              "</style>\n",
              "<table border=\"1\" class=\"dataframe\">\n",
              "  <thead>\n",
              "    <tr style=\"text-align: right;\">\n",
              "      <th></th>\n",
              "      <th>DIASEMANA</th>\n",
              "    </tr>\n",
              "  </thead>\n",
              "  <tbody>\n",
              "    <tr>\n",
              "      <th>count</th>\n",
              "      <td>15069.000000</td>\n",
              "    </tr>\n",
              "    <tr>\n",
              "      <th>mean</th>\n",
              "      <td>2.328157</td>\n",
              "    </tr>\n",
              "    <tr>\n",
              "      <th>std</th>\n",
              "      <td>1.752208</td>\n",
              "    </tr>\n",
              "    <tr>\n",
              "      <th>min</th>\n",
              "      <td>0.000000</td>\n",
              "    </tr>\n",
              "    <tr>\n",
              "      <th>25%</th>\n",
              "      <td>1.000000</td>\n",
              "    </tr>\n",
              "    <tr>\n",
              "      <th>50%</th>\n",
              "      <td>2.000000</td>\n",
              "    </tr>\n",
              "    <tr>\n",
              "      <th>75%</th>\n",
              "      <td>4.000000</td>\n",
              "    </tr>\n",
              "    <tr>\n",
              "      <th>max</th>\n",
              "      <td>6.000000</td>\n",
              "    </tr>\n",
              "  </tbody>\n",
              "</table>\n",
              "</div>"
            ],
            "text/plain": [
              "          DIASEMANA\n",
              "count  15069.000000\n",
              "mean       2.328157\n",
              "std        1.752208\n",
              "min        0.000000\n",
              "25%        1.000000\n",
              "50%        2.000000\n",
              "75%        4.000000\n",
              "max        6.000000"
            ]
          },
          "metadata": {
            "tags": []
          },
          "execution_count": 123
        }
      ]
    },
    {
      "cell_type": "markdown",
      "metadata": {
        "id": "ybXTv_797bmF",
        "colab_type": "text"
      },
      "source": [
        "<h2>Plotando o dataset puro </h2>\n",
        "\n"
      ]
    },
    {
      "cell_type": "code",
      "metadata": {
        "id": "afCCNTkys0Gf",
        "colab_type": "code",
        "outputId": "8a42c5c0-7fa8-464b-d7d3-c70c549aa24a",
        "colab": {
          "base_uri": "https://localhost:8080/",
          "height": 206
        }
      },
      "source": [
        "sb.pairplot(dfNovo,hue='NOM_MODALIDADE_ATENDIMENTO')\n",
        "#pl.legend()\n"
      ],
      "execution_count": 0,
      "outputs": [
        {
          "output_type": "execute_result",
          "data": {
            "text/plain": [
              "<seaborn.axisgrid.PairGrid at 0x7fb026c01390>"
            ]
          },
          "metadata": {
            "tags": []
          },
          "execution_count": 133
        },
        {
          "output_type": "display_data",
          "data": {
            "image/png": "[encoded data removed]",
            "text/plain": [
              "<Figure size 363.25x180 with 2 Axes>"
            ]
          },
          "metadata": {
            "tags": []
          }
        }
      ]
    },
    {
      "cell_type": "code",
      "metadata": {
        "id": "5nx2MWGHtbQB",
        "colab_type": "code",
        "outputId": "ea1182bf-b863-452c-9f11-7510d2054054",
        "colab": {
          "base_uri": "https://localhost:8080/",
          "height": 308
        }
      },
      "source": [
        "df.head()\n"
      ],
      "execution_count": 0,
      "outputs": [
        {
          "output_type": "execute_result",
          "data": {
            "text/html": [
              "<div>\n",
              "<style scoped>\n",
              "    .dataframe tbody tr th:only-of-type {\n",
              "        vertical-align: middle;\n",
              "    }\n",
              "\n",
              "    .dataframe tbody tr th {\n",
              "        vertical-align: top;\n",
              "    }\n",
              "\n",
              "    .dataframe thead th {\n",
              "        text-align: right;\n",
              "    }\n",
              "</style>\n",
              "<table border=\"1\" class=\"dataframe\">\n",
              "  <thead>\n",
              "    <tr style=\"text-align: right;\">\n",
              "      <th></th>\n",
              "      <th>DAT_HORA_ATENDIMENTO</th>\n",
              "      <th>NOM_ENCAMINHAMENTO</th>\n",
              "      <th>NOM_MODALIDADE_ATENDIMENTO</th>\n",
              "      <th>NOM_MUNICIPIO</th>\n",
              "      <th>NOM_EQUIPE</th>\n",
              "      <th>NOM_TIPO_CASO</th>\n",
              "      <th>IDADE</th>\n",
              "      <th>DIASEMANA</th>\n",
              "    </tr>\n",
              "  </thead>\n",
              "  <tbody>\n",
              "    <tr>\n",
              "      <th>0</th>\n",
              "      <td>2016-01-25 07:00:00</td>\n",
              "      <td>RETORNO</td>\n",
              "      <td>AMBULATORIO</td>\n",
              "      <td>QUINTANA</td>\n",
              "      <td>CIRURGIA PLÁSTICA</td>\n",
              "      <td>RETORNO</td>\n",
              "      <td>45.177323</td>\n",
              "      <td>0</td>\n",
              "    </tr>\n",
              "    <tr>\n",
              "      <th>1</th>\n",
              "      <td>2016-02-29 07:00:00</td>\n",
              "      <td>RETORNO</td>\n",
              "      <td>AMBULATORIO</td>\n",
              "      <td>MARILIA</td>\n",
              "      <td>CIRURGIA PLÁSTICA</td>\n",
              "      <td>POS CIRURGICO</td>\n",
              "      <td>29.215679</td>\n",
              "      <td>0</td>\n",
              "    </tr>\n",
              "    <tr>\n",
              "      <th>2</th>\n",
              "      <td>2016-02-29 07:00:00</td>\n",
              "      <td>RETORNO</td>\n",
              "      <td>AMBULATORIO</td>\n",
              "      <td>MARILIA</td>\n",
              "      <td>CIRURGIA PLÁSTICA</td>\n",
              "      <td>POS CIRURGICO</td>\n",
              "      <td>41.804720</td>\n",
              "      <td>0</td>\n",
              "    </tr>\n",
              "    <tr>\n",
              "      <th>3</th>\n",
              "      <td>2016-07-03 07:00:00</td>\n",
              "      <td>RETORNO</td>\n",
              "      <td>AMBULATORIO</td>\n",
              "      <td>MARILIA</td>\n",
              "      <td>CIRURGIA PLÁSTICA</td>\n",
              "      <td>POS CIRURGICO</td>\n",
              "      <td>21.774583</td>\n",
              "      <td>6</td>\n",
              "    </tr>\n",
              "    <tr>\n",
              "      <th>4</th>\n",
              "      <td>2016-07-03 07:00:00</td>\n",
              "      <td>ALTA</td>\n",
              "      <td>AMBULATORIO</td>\n",
              "      <td>DUARTINA</td>\n",
              "      <td>CIRURGIA PLÁSTICA</td>\n",
              "      <td>POS CIRURGICO</td>\n",
              "      <td>46.374583</td>\n",
              "      <td>6</td>\n",
              "    </tr>\n",
              "  </tbody>\n",
              "</table>\n",
              "</div>"
            ],
            "text/plain": [
              "  DAT_HORA_ATENDIMENTO NOM_ENCAMINHAMENTO  ...      IDADE DIASEMANA\n",
              "0  2016-01-25 07:00:00            RETORNO  ...  45.177323         0\n",
              "1  2016-02-29 07:00:00            RETORNO  ...  29.215679         0\n",
              "2  2016-02-29 07:00:00            RETORNO  ...  41.804720         0\n",
              "3  2016-07-03 07:00:00            RETORNO  ...  21.774583         6\n",
              "4  2016-07-03 07:00:00               ALTA  ...  46.374583         6\n",
              "\n",
              "[5 rows x 8 columns]"
            ]
          },
          "metadata": {
            "tags": []
          },
          "execution_count": 134
        }
      ]
    },
    {
      "cell_type": "code",
      "metadata": {
        "id": "2e2oPZhLejGW",
        "colab_type": "code",
        "outputId": "a63fe152-526c-455e-a780-6b382c254052",
        "colab": {
          "base_uri": "https://localhost:8080/",
          "height": 417
        }
      },
      "source": [
        "dfCluster = df[['NOM_ENCAMINHAMENTO','DIASEMANA']]\n",
        "dfCluster = dfCluster[dfCluster.NOM_ENCAMINHAMENTO.isin(['ALTA', 'RETORNO'])]\n",
        "dfCluster = pd.concat([dfCluster, pd.get_dummies(dfCluster['NOM_ENCAMINHAMENTO'])], axis=1);\n",
        "dfCluster"
      ],
      "execution_count": 0,
      "outputs": [
        {
          "output_type": "execute_result",
          "data": {
            "text/html": [
              "<div>\n",
              "<style scoped>\n",
              "    .dataframe tbody tr th:only-of-type {\n",
              "        vertical-align: middle;\n",
              "    }\n",
              "\n",
              "    .dataframe tbody tr th {\n",
              "        vertical-align: top;\n",
              "    }\n",
              "\n",
              "    .dataframe thead th {\n",
              "        text-align: right;\n",
              "    }\n",
              "</style>\n",
              "<table border=\"1\" class=\"dataframe\">\n",
              "  <thead>\n",
              "    <tr style=\"text-align: right;\">\n",
              "      <th></th>\n",
              "      <th>NOM_ENCAMINHAMENTO</th>\n",
              "      <th>DIASEMANA</th>\n",
              "      <th>ALTA</th>\n",
              "      <th>RETORNO</th>\n",
              "    </tr>\n",
              "  </thead>\n",
              "  <tbody>\n",
              "    <tr>\n",
              "      <th>0</th>\n",
              "      <td>RETORNO</td>\n",
              "      <td>0</td>\n",
              "      <td>0</td>\n",
              "      <td>1</td>\n",
              "    </tr>\n",
              "    <tr>\n",
              "      <th>1</th>\n",
              "      <td>RETORNO</td>\n",
              "      <td>0</td>\n",
              "      <td>0</td>\n",
              "      <td>1</td>\n",
              "    </tr>\n",
              "    <tr>\n",
              "      <th>2</th>\n",
              "      <td>RETORNO</td>\n",
              "      <td>0</td>\n",
              "      <td>0</td>\n",
              "      <td>1</td>\n",
              "    </tr>\n",
              "    <tr>\n",
              "      <th>3</th>\n",
              "      <td>RETORNO</td>\n",
              "      <td>6</td>\n",
              "      <td>0</td>\n",
              "      <td>1</td>\n",
              "    </tr>\n",
              "    <tr>\n",
              "      <th>4</th>\n",
              "      <td>ALTA</td>\n",
              "      <td>6</td>\n",
              "      <td>1</td>\n",
              "      <td>0</td>\n",
              "    </tr>\n",
              "    <tr>\n",
              "      <th>...</th>\n",
              "      <td>...</td>\n",
              "      <td>...</td>\n",
              "      <td>...</td>\n",
              "      <td>...</td>\n",
              "    </tr>\n",
              "    <tr>\n",
              "      <th>15063</th>\n",
              "      <td>RETORNO</td>\n",
              "      <td>2</td>\n",
              "      <td>0</td>\n",
              "      <td>1</td>\n",
              "    </tr>\n",
              "    <tr>\n",
              "      <th>15064</th>\n",
              "      <td>RETORNO</td>\n",
              "      <td>2</td>\n",
              "      <td>0</td>\n",
              "      <td>1</td>\n",
              "    </tr>\n",
              "    <tr>\n",
              "      <th>15065</th>\n",
              "      <td>RETORNO</td>\n",
              "      <td>4</td>\n",
              "      <td>0</td>\n",
              "      <td>1</td>\n",
              "    </tr>\n",
              "    <tr>\n",
              "      <th>15066</th>\n",
              "      <td>RETORNO</td>\n",
              "      <td>3</td>\n",
              "      <td>0</td>\n",
              "      <td>1</td>\n",
              "    </tr>\n",
              "    <tr>\n",
              "      <th>15068</th>\n",
              "      <td>ALTA</td>\n",
              "      <td>2</td>\n",
              "      <td>1</td>\n",
              "      <td>0</td>\n",
              "    </tr>\n",
              "  </tbody>\n",
              "</table>\n",
              "<p>11548 rows × 4 columns</p>\n",
              "</div>"
            ],
            "text/plain": [
              "      NOM_ENCAMINHAMENTO  DIASEMANA  ALTA  RETORNO\n",
              "0                RETORNO          0     0        1\n",
              "1                RETORNO          0     0        1\n",
              "2                RETORNO          0     0        1\n",
              "3                RETORNO          6     0        1\n",
              "4                   ALTA          6     1        0\n",
              "...                  ...        ...   ...      ...\n",
              "15063            RETORNO          2     0        1\n",
              "15064            RETORNO          2     0        1\n",
              "15065            RETORNO          4     0        1\n",
              "15066            RETORNO          3     0        1\n",
              "15068               ALTA          2     1        0\n",
              "\n",
              "[11548 rows x 4 columns]"
            ]
          },
          "metadata": {
            "tags": []
          },
          "execution_count": 135
        }
      ]
    },
    {
      "cell_type": "code",
      "metadata": {
        "id": "6U9D7PVRs0Gn",
        "colab_type": "code",
        "colab": {}
      },
      "source": [
        "X = np.array(dfCluster.drop('NOM_ENCAMINHAMENTO',axis = 1))\n"
      ],
      "execution_count": 0,
      "outputs": []
    },
    {
      "cell_type": "markdown",
      "metadata": {
        "id": "Tlmwpkxgs0Gy",
        "colab_type": "text"
      },
      "source": [
        "## K-means com 3 cluster"
      ]
    },
    {
      "cell_type": "code",
      "metadata": {
        "id": "HwvGkyw9s0Gz",
        "colab_type": "code",
        "colab": {}
      },
      "source": [
        "from sklearn.cluster import KMeans"
      ],
      "execution_count": 0,
      "outputs": []
    },
    {
      "cell_type": "code",
      "metadata": {
        "id": "F5J-0uhNs0G3",
        "colab_type": "code",
        "colab": {}
      },
      "source": [
        "kmeans = KMeans(n_clusters=3, random_state=0)"
      ],
      "execution_count": 0,
      "outputs": []
    },
    {
      "cell_type": "code",
      "metadata": {
        "id": "EiEW-w6Ieekv",
        "colab_type": "code",
        "outputId": "edf85e31-3b96-4061-9669-7eaa0760147c",
        "colab": {
          "base_uri": "https://localhost:8080/",
          "height": 417
        }
      },
      "source": [
        "dfCluster"
      ],
      "execution_count": 0,
      "outputs": [
        {
          "output_type": "execute_result",
          "data": {
            "text/html": [
              "<div>\n",
              "<style scoped>\n",
              "    .dataframe tbody tr th:only-of-type {\n",
              "        vertical-align: middle;\n",
              "    }\n",
              "\n",
              "    .dataframe tbody tr th {\n",
              "        vertical-align: top;\n",
              "    }\n",
              "\n",
              "    .dataframe thead th {\n",
              "        text-align: right;\n",
              "    }\n",
              "</style>\n",
              "<table border=\"1\" class=\"dataframe\">\n",
              "  <thead>\n",
              "    <tr style=\"text-align: right;\">\n",
              "      <th></th>\n",
              "      <th>NOM_ENCAMINHAMENTO</th>\n",
              "      <th>DIASEMANA</th>\n",
              "      <th>ALTA</th>\n",
              "      <th>RETORNO</th>\n",
              "    </tr>\n",
              "  </thead>\n",
              "  <tbody>\n",
              "    <tr>\n",
              "      <th>0</th>\n",
              "      <td>RETORNO</td>\n",
              "      <td>0</td>\n",
              "      <td>0</td>\n",
              "      <td>1</td>\n",
              "    </tr>\n",
              "    <tr>\n",
              "      <th>1</th>\n",
              "      <td>RETORNO</td>\n",
              "      <td>0</td>\n",
              "      <td>0</td>\n",
              "      <td>1</td>\n",
              "    </tr>\n",
              "    <tr>\n",
              "      <th>2</th>\n",
              "      <td>RETORNO</td>\n",
              "      <td>0</td>\n",
              "      <td>0</td>\n",
              "      <td>1</td>\n",
              "    </tr>\n",
              "    <tr>\n",
              "      <th>3</th>\n",
              "      <td>RETORNO</td>\n",
              "      <td>6</td>\n",
              "      <td>0</td>\n",
              "      <td>1</td>\n",
              "    </tr>\n",
              "    <tr>\n",
              "      <th>4</th>\n",
              "      <td>ALTA</td>\n",
              "      <td>6</td>\n",
              "      <td>1</td>\n",
              "      <td>0</td>\n",
              "    </tr>\n",
              "    <tr>\n",
              "      <th>...</th>\n",
              "      <td>...</td>\n",
              "      <td>...</td>\n",
              "      <td>...</td>\n",
              "      <td>...</td>\n",
              "    </tr>\n",
              "    <tr>\n",
              "      <th>15063</th>\n",
              "      <td>RETORNO</td>\n",
              "      <td>2</td>\n",
              "      <td>0</td>\n",
              "      <td>1</td>\n",
              "    </tr>\n",
              "    <tr>\n",
              "      <th>15064</th>\n",
              "      <td>RETORNO</td>\n",
              "      <td>2</td>\n",
              "      <td>0</td>\n",
              "      <td>1</td>\n",
              "    </tr>\n",
              "    <tr>\n",
              "      <th>15065</th>\n",
              "      <td>RETORNO</td>\n",
              "      <td>4</td>\n",
              "      <td>0</td>\n",
              "      <td>1</td>\n",
              "    </tr>\n",
              "    <tr>\n",
              "      <th>15066</th>\n",
              "      <td>RETORNO</td>\n",
              "      <td>3</td>\n",
              "      <td>0</td>\n",
              "      <td>1</td>\n",
              "    </tr>\n",
              "    <tr>\n",
              "      <th>15068</th>\n",
              "      <td>ALTA</td>\n",
              "      <td>2</td>\n",
              "      <td>1</td>\n",
              "      <td>0</td>\n",
              "    </tr>\n",
              "  </tbody>\n",
              "</table>\n",
              "<p>11548 rows × 4 columns</p>\n",
              "</div>"
            ],
            "text/plain": [
              "      NOM_ENCAMINHAMENTO  DIASEMANA  ALTA  RETORNO\n",
              "0                RETORNO          0     0        1\n",
              "1                RETORNO          0     0        1\n",
              "2                RETORNO          0     0        1\n",
              "3                RETORNO          6     0        1\n",
              "4                   ALTA          6     1        0\n",
              "...                  ...        ...   ...      ...\n",
              "15063            RETORNO          2     0        1\n",
              "15064            RETORNO          2     0        1\n",
              "15065            RETORNO          4     0        1\n",
              "15066            RETORNO          3     0        1\n",
              "15068               ALTA          2     1        0\n",
              "\n",
              "[11548 rows x 4 columns]"
            ]
          },
          "metadata": {
            "tags": []
          },
          "execution_count": 139
        }
      ]
    },
    {
      "cell_type": "code",
      "metadata": {
        "id": "qD2Fsoyps0G7",
        "colab_type": "code",
        "outputId": "4fafff91-316b-43fc-e078-1e1f79e6eb51",
        "colab": {
          "base_uri": "https://localhost:8080/",
          "height": 68
        }
      },
      "source": [
        "kmeans.fit(X)"
      ],
      "execution_count": 0,
      "outputs": [
        {
          "output_type": "execute_result",
          "data": {
            "text/plain": [
              "KMeans(algorithm='auto', copy_x=True, init='k-means++', max_iter=300,\n",
              "       n_clusters=3, n_init=10, n_jobs=None, precompute_distances='auto',\n",
              "       random_state=0, tol=0.0001, verbose=0)"
            ]
          },
          "metadata": {
            "tags": []
          },
          "execution_count": 141
        }
      ]
    },
    {
      "cell_type": "code",
      "metadata": {
        "id": "xuQSccoHs0HB",
        "colab_type": "code",
        "outputId": "27476386-c395-41b4-da63-127cb4b4c9c9",
        "colab": {
          "base_uri": "https://localhost:8080/",
          "height": 34
        }
      },
      "source": [
        "kmeans.labels_"
      ],
      "execution_count": 0,
      "outputs": [
        {
          "output_type": "execute_result",
          "data": {
            "text/plain": [
              "array([0, 0, 0, ..., 1, 2, 2], dtype=int32)"
            ]
          },
          "metadata": {
            "tags": []
          },
          "execution_count": 142
        }
      ]
    },
    {
      "cell_type": "code",
      "metadata": {
        "id": "T94huOD9s0HH",
        "colab_type": "code",
        "colab": {}
      },
      "source": [
        "dfCluster['K-classes'] = kmeans.labels_"
      ],
      "execution_count": 0,
      "outputs": []
    },
    {
      "cell_type": "markdown",
      "metadata": {
        "id": "Mz_vdVWX7zsl",
        "colab_type": "text"
      },
      "source": [
        "<h2>Plotando o resultado da clusterização</h2>"
      ]
    },
    {
      "cell_type": "code",
      "metadata": {
        "id": "hTufAWpIs0HR",
        "colab_type": "code",
        "outputId": "b3a9518f-f809-4452-d36e-a832903c60d4",
        "colab": {
          "base_uri": "https://localhost:8080/",
          "height": 831
        }
      },
      "source": [
        "sb.pairplot(dfCluster,hue='K-classes')"
      ],
      "execution_count": 0,
      "outputs": [
        {
          "output_type": "stream",
          "text": [
            "/usr/local/lib/python3.6/dist-packages/statsmodels/nonparametric/kde.py:487: RuntimeWarning: invalid value encountered in true_divide\n",
            "  binned = fast_linbin(X, a, b, gridsize) / (delta * nobs)\n",
            "/usr/local/lib/python3.6/dist-packages/statsmodels/nonparametric/kdetools.py:34: RuntimeWarning: invalid value encountered in double_scalars\n",
            "  FAC1 = 2*(np.pi*bw/RANGE)**2\n"
          ],
          "name": "stderr"
        },
        {
          "output_type": "execute_result",
          "data": {
            "text/plain": [
              "<seaborn.axisgrid.PairGrid at 0x7fb026ad9fd0>"
            ]
          },
          "metadata": {
            "tags": []
          },
          "execution_count": 144
        },
        {
          "output_type": "display_data",
          "data": {
            "image/png": "[encoded data removed]",
            "text/plain": [
              "<Figure size 774.484x720 with 20 Axes>"
            ]
          },
          "metadata": {
            "tags": []
          }
        }
      ]
    },
    {
      "cell_type": "markdown",
      "metadata": {
        "id": "EOp6G9Cf7yH1",
        "colab_type": "text"
      },
      "source": [
        ""
      ]
    },
    {
      "cell_type": "code",
      "metadata": {
        "id": "UUtDF_x5s0Hg",
        "colab_type": "code",
        "colab": {}
      },
      "source": [
        ""
      ],
      "execution_count": 0,
      "outputs": []
    }
  ]
}